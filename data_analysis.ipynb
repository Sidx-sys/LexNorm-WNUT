{
 "cells": [
  {
   "cell_type": "code",
   "execution_count": 2,
   "metadata": {},
   "outputs": [],
   "source": [
    "folder_path = 'Data/multilexnorm/data/'\n",
    "file_path = 'en/train.norm'\n",
    "data_path = folder_path + file_path"
   ]
  },
  {
   "cell_type": "code",
   "execution_count": 3,
   "metadata": {},
   "outputs": [],
   "source": [
    "import pandas as pd"
   ]
  },
  {
   "cell_type": "code",
   "execution_count": 4,
   "metadata": {},
   "outputs": [
    {
     "data": {
      "text/html": [
       "<div>\n",
       "<style scoped>\n",
       "    .dataframe tbody tr th:only-of-type {\n",
       "        vertical-align: middle;\n",
       "    }\n",
       "\n",
       "    .dataframe tbody tr th {\n",
       "        vertical-align: top;\n",
       "    }\n",
       "\n",
       "    .dataframe thead th {\n",
       "        text-align: right;\n",
       "    }\n",
       "</style>\n",
       "<table border=\"1\" class=\"dataframe\">\n",
       "  <thead>\n",
       "    <tr style=\"text-align: right;\">\n",
       "      <th></th>\n",
       "      <th>raw</th>\n",
       "      <th>norm</th>\n",
       "    </tr>\n",
       "  </thead>\n",
       "  <tbody>\n",
       "    <tr>\n",
       "      <th>0</th>\n",
       "      <td>@teddyferrari1</td>\n",
       "      <td>@teddyferrari1</td>\n",
       "    </tr>\n",
       "    <tr>\n",
       "      <th>1</th>\n",
       "      <td>:</td>\n",
       "      <td>:</td>\n",
       "    </tr>\n",
       "    <tr>\n",
       "      <th>2</th>\n",
       "      <td>\"</td>\n",
       "      <td>\"</td>\n",
       "    </tr>\n",
       "    <tr>\n",
       "      <th>3</th>\n",
       "      <td>ah</td>\n",
       "      <td>ah</td>\n",
       "    </tr>\n",
       "    <tr>\n",
       "      <th>4</th>\n",
       "      <td>...</td>\n",
       "      <td>...</td>\n",
       "    </tr>\n",
       "    <tr>\n",
       "      <th>5</th>\n",
       "      <td>@datzmenoni</td>\n",
       "      <td>@datzmenoni</td>\n",
       "    </tr>\n",
       "    <tr>\n",
       "      <th>6</th>\n",
       "      <td>:</td>\n",
       "      <td>:</td>\n",
       "    </tr>\n",
       "    <tr>\n",
       "      <th>7</th>\n",
       "      <td>why</td>\n",
       "      <td>why</td>\n",
       "    </tr>\n",
       "    <tr>\n",
       "      <th>8</th>\n",
       "      <td>sub</td>\n",
       "      <td>sub</td>\n",
       "    </tr>\n",
       "    <tr>\n",
       "      <th>9</th>\n",
       "      <td>ozil</td>\n",
       "      <td>ozil</td>\n",
       "    </tr>\n",
       "    <tr>\n",
       "      <th>10</th>\n",
       "      <td>\"</td>\n",
       "      <td>\"</td>\n",
       "    </tr>\n",
       "  </tbody>\n",
       "</table>\n",
       "</div>"
      ],
      "text/plain": [
       "               raw            norm\n",
       "0   @teddyferrari1  @teddyferrari1\n",
       "1                :               :\n",
       "2                \"               \"\n",
       "3               ah              ah\n",
       "4              ...             ...\n",
       "5      @datzmenoni     @datzmenoni\n",
       "6                :               :\n",
       "7              why             why\n",
       "8              sub             sub\n",
       "9             ozil            ozil\n",
       "10               \"               \""
      ]
     },
     "execution_count": 4,
     "metadata": {},
     "output_type": "execute_result"
    }
   ],
   "source": [
    "df = pd.read_csv(data_path, sep='\\t', quotechar=\"'\")\n",
    "df.rename(columns={'rt': 'raw', 'rt.1': 'norm'}, inplace=True)\n",
    "df.head(11)"
   ]
  },
  {
   "cell_type": "code",
   "execution_count": 5,
   "metadata": {},
   "outputs": [],
   "source": [
    "raw = []\n",
    "norm = []\n",
    "\n",
    "with open(data_path, 'r') as f:\n",
    "    tweet_raw = []\n",
    "    tweet_norm = []\n",
    "    for line in f:\n",
    "        if line == '\\n':\n",
    "            raw.append(\" \".join(tweet_raw))\n",
    "            norm.append(\" \".join(tweet_norm))\n",
    "            tweet_raw = []\n",
    "            tweet_norm = []\n",
    "        else:\n",
    "            tokens = line.split()\n",
    "\n",
    "            tweet_raw.append(tokens[0])\n",
    "            tweet_norm.extend(tokens[1:])"
   ]
  },
  {
   "cell_type": "code",
   "execution_count": 6,
   "metadata": {},
   "outputs": [
    {
     "data": {
      "text/plain": [
       "['rt @teddyferrari1 : \" ah ... @datzmenoni : why sub ozil \" @lexzydoo_ab : opolo eyes u no fit open eyes \"\"',\n",
       " 'u have a very sexy header @jaibrooks1 rawr',\n",
       " 'i miss u my bie ! where u wanna out wif me ? have a wonderful day like a swan day .. haha ..',\n",
       " '\" cantik . rt @historyinpics : julie christie , 1968 . photograph by richard avedon . http://t.co/gscav8o0ik \"',\n",
       " 'rt @fvckxhemmings : did calum slip ?!! omfg']"
      ]
     },
     "execution_count": 6,
     "metadata": {},
     "output_type": "execute_result"
    }
   ],
   "source": [
    "raw[:5]"
   ]
  },
  {
   "cell_type": "code",
   "execution_count": 7,
   "metadata": {},
   "outputs": [
    {
     "data": {
      "text/plain": [
       "['rt @teddyferrari1 : \" ah ... @datzmenoni : why sub ozil \" @lexzydoo_ab : opolo eyes you no fit open eyes \"\"',\n",
       " 'you have a very sexy header @jaibrooks1 rawr',\n",
       " 'i miss you my bie ! where you want to out with me ? have a wonderful day like a swan day .. haha ..',\n",
       " '\" cantik . rt @historyinpics : julie christie , 1968 . photograph by richard avedon . http://t.co/gscav8o0ik \"',\n",
       " 'rt @fvckxhemmings : did calum slip ?!! omfg']"
      ]
     },
     "execution_count": 7,
     "metadata": {},
     "output_type": "execute_result"
    }
   ],
   "source": [
    "norm[:5]"
   ]
  },
  {
   "cell_type": "markdown",
   "metadata": {},
   "source": [
    "## Cleaning the data"
   ]
  },
  {
   "cell_type": "code",
   "execution_count": 8,
   "metadata": {},
   "outputs": [],
   "source": [
    "#!pip install tweet-preprocessor"
   ]
  },
  {
   "cell_type": "code",
   "execution_count": 9,
   "metadata": {},
   "outputs": [],
   "source": [
    "import preprocessor as p\n",
    "p.set_options(p.OPT.URL, p.OPT.EMOJI, p.OPT.MENTION, p.OPT.HASHTAG, p.OPT.NUMBER)"
   ]
  },
  {
   "cell_type": "code",
   "execution_count": 10,
   "metadata": {},
   "outputs": [],
   "source": [
    "def clean_text(s):\n",
    "    return p.clean(s)"
   ]
  },
  {
   "cell_type": "code",
   "execution_count": 11,
   "metadata": {},
   "outputs": [],
   "source": [
    "c_raw = [clean_text(s) for s in raw]\n",
    "c_norm = [clean_text(s) for s in norm]"
   ]
  },
  {
   "cell_type": "code",
   "execution_count": 12,
   "metadata": {},
   "outputs": [
    {
     "data": {
      "text/plain": [
       "['rt : \" ah ... : why sub ozil \" : opolo eyes u no fit open eyes \"\"',\n",
       " 'u have a very sexy header rawr',\n",
       " 'i miss u my bie ! where u wanna out wif me ? have a wonderful day like a swan day .. haha ..',\n",
       " '\" cantik . rt : julie christie , . photograph by richard avedon . \"',\n",
       " 'rt : did calum slip ?!! omfg']"
      ]
     },
     "execution_count": 12,
     "metadata": {},
     "output_type": "execute_result"
    }
   ],
   "source": [
    "c_raw[:5]"
   ]
  },
  {
   "cell_type": "code",
   "execution_count": 13,
   "metadata": {},
   "outputs": [
    {
     "data": {
      "text/plain": [
       "['rt : \" ah ... : why sub ozil \" : opolo eyes you no fit open eyes \"\"',\n",
       " 'you have a very sexy header rawr',\n",
       " 'i miss you my bie ! where you want to out with me ? have a wonderful day like a swan day .. haha ..',\n",
       " '\" cantik . rt : julie christie , . photograph by richard avedon . \"',\n",
       " 'rt : did calum slip ?!! omfg']"
      ]
     },
     "execution_count": 13,
     "metadata": {},
     "output_type": "execute_result"
    }
   ],
   "source": [
    "c_norm[:5]"
   ]
  },
  {
   "cell_type": "markdown",
   "metadata": {},
   "source": [
    "## Observations"
   ]
  },
  {
   "cell_type": "code",
   "execution_count": 14,
   "metadata": {},
   "outputs": [],
   "source": [
    "'''Conversion map for words that can be normalized, {raw_word: {'opt_1': freq_1, 'opt_2':freq_2}}'''\n",
    "conversion_map = {}\n",
    "freq_map = {}\n",
    "one_to_n = {}\n",
    "\n",
    "for index, row in df.iterrows():\n",
    "    raw = str(row['raw'])\n",
    "    norm = str(row['norm'])\n",
    "    \n",
    "    if  raw != norm and raw != '\\t':\n",
    "        # conversion to normalized\n",
    "        if raw not in conversion_map.keys():\n",
    "            conversion_map[raw] = {}\n",
    "        if norm not in conversion_map[raw].keys():\n",
    "            conversion_map[raw][norm] = 1\n",
    "        else:\n",
    "            conversion_map[raw][norm] += 1\n",
    "\n",
    "        # frequency of conversions\n",
    "        if raw not in freq_map.keys():\n",
    "            freq_map[raw] = 1\n",
    "        else:\n",
    "            freq_map[raw] += 1\n",
    "        \n",
    "        # 1-n conversions\n",
    "        if len(raw.split()) < len(norm.split()):\n",
    "            if raw not in one_to_n.keys():\n",
    "                one_to_n[raw] = []\n",
    "            one_to_n[raw].append(norm)"
   ]
  },
  {
   "cell_type": "markdown",
   "metadata": {},
   "source": [
    "### Frequently Occuring Normalizations\n"
   ]
  },
  {
   "cell_type": "code",
   "execution_count": 15,
   "metadata": {
    "tags": []
   },
   "outputs": [
    {
     "data": {
      "text/plain": [
       "[('u', 271),\n",
       " ('im', 148),\n",
       " ('dont', 72),\n",
       " ('nigga', 49),\n",
       " ('niggas', 45),\n",
       " ('n', 41),\n",
       " ('pls', 35),\n",
       " ('ur', 35),\n",
       " ('lil', 32),\n",
       " ('thats', 30)]"
      ]
     },
     "execution_count": 15,
     "metadata": {},
     "output_type": "execute_result"
    }
   ],
   "source": [
    "freq_map_sorted = sorted(freq_map.items(), key=lambda item: -item[1])\n",
    "freq_map_sorted[:10]"
   ]
  },
  {
   "cell_type": "markdown",
   "metadata": {},
   "source": [
    "### The Conversions"
   ]
  },
  {
   "cell_type": "code",
   "execution_count": 16,
   "metadata": {},
   "outputs": [
    {
     "name": "stdout",
     "output_type": "stream",
     "text": [
      "1: ('u', 271) -> {'you': 266, \"you're\": 2, 'your': 3}\n",
      "2: ('im', 148) -> {\"i'm\": 147, 'i': 1}\n",
      "3: ('dont', 72) -> {\"don't\": 72}\n",
      "4: ('nigga', 49) -> {'nigger': 49}\n",
      "5: ('niggas', 45) -> {'niggers': 45}\n",
      "6: ('n', 41) -> {'and': 39, 'at': 1, 'in': 1}\n",
      "7: ('pls', 35) -> {'please': 35}\n",
      "8: ('ur', 35) -> {'your': 25, \"you're\": 9, 'you': 1}\n",
      "9: ('lil', 32) -> {'little': 32}\n",
      "10: ('thats', 30) -> {\"that's\": 30}\n"
     ]
    }
   ],
   "source": [
    "for i in range(10):\n",
    "    print(f\"{i + 1}: {freq_map_sorted[i]} -> {str(conversion_map[freq_map_sorted[i][0]])}\")"
   ]
  },
  {
   "cell_type": "markdown",
   "metadata": {},
   "source": [
    "### 1-N conversions"
   ]
  },
  {
   "cell_type": "code",
   "execution_count": 17,
   "metadata": {},
   "outputs": [
    {
     "name": "stdout",
     "output_type": "stream",
     "text": [
      "No. of 1-N conversions: 144\n"
     ]
    }
   ],
   "source": [
    "print(f\"No. of 1-N conversions: {len(one_to_n)}\")"
   ]
  },
  {
   "cell_type": "markdown",
   "metadata": {},
   "source": [
    "Sorting according to types of *1-N conversions per word*"
   ]
  },
  {
   "cell_type": "code",
   "execution_count": 18,
   "metadata": {},
   "outputs": [
    {
     "data": {
      "text/plain": [
       "('finna',\n",
       " ['going to',\n",
       "  'going to',\n",
       "  'going to',\n",
       "  'going to',\n",
       "  'going to',\n",
       "  'going to',\n",
       "  'going to',\n",
       "  'going to',\n",
       "  'going to',\n",
       "  'going to'])"
      ]
     },
     "execution_count": 18,
     "metadata": {},
     "output_type": "execute_result"
    }
   ],
   "source": [
    "one_to_n_sorted = sorted(one_to_n.items(), key=lambda item: -len(item[1]))\n",
    "one_to_n_sorted[4]"
   ]
  },
  {
   "cell_type": "markdown",
   "metadata": {},
   "source": [
    "Here, **finna** is commonly normalized to **going to**, although the web tells that its *normalized version* is **fixing to**"
   ]
  },
  {
   "cell_type": "code",
   "execution_count": 19,
   "metadata": {},
   "outputs": [
    {
     "name": "stdout",
     "output_type": "stream",
     "text": [
      "Top 10 1-N Conversions:\n",
      "\n",
      "0: gonna -> going to\n",
      "1: ima -> i'm going to\n",
      "2: imma -> i'm going to\n",
      "3: tryna -> trying to\n",
      "4: finna -> going to\n",
      "5: dm -> direct message\n",
      "6: wanna -> want to\n",
      "7: tf -> the fuck\n",
      "8: af -> as fuck\n",
      "9: rn -> right now\n"
     ]
    }
   ],
   "source": [
    "print(\"Top 10 1-N Conversions:\\n\")\n",
    "for i in range(10):\n",
    "    w, r = one_to_n_sorted[i]\n",
    "    print(f\"{i}: {w} -> {r[0]}\")"
   ]
  },
  {
   "cell_type": "markdown",
   "metadata": {},
   "source": [
    "### Edit Distances"
   ]
  },
  {
   "cell_type": "code",
   "execution_count": 20,
   "metadata": {},
   "outputs": [],
   "source": [
    "def edit_distance(s1, s2):\n",
    "    if len(s1) > len(s2):\n",
    "        s1, s2 = s2, s1\n",
    "\n",
    "    distances = range(len(s1) + 1)\n",
    "    for i2, c2 in enumerate(s2):\n",
    "        distances_ = [i2+1]\n",
    "        for i1, c1 in enumerate(s1):\n",
    "            if c1 == c2:\n",
    "                distances_.append(distances[i1])\n",
    "            else:\n",
    "                distances_.append(1 + min((distances[i1], distances[i1 + 1], distances_[-1])))\n",
    "        distances = distances_\n",
    "    return distances[-1]"
   ]
  },
  {
   "cell_type": "code",
   "execution_count": 21,
   "metadata": {},
   "outputs": [],
   "source": [
    "edit_distances = []\n",
    "\n",
    "for raw in conversion_map.keys():\n",
    "    for norm in conversion_map[raw].keys():\n",
    "        dist = edit_distance(raw, norm)\n",
    "        freq = conversion_map[raw][norm]\n",
    "        '''to include duplicates'''\n",
    "        # dist_freq = [dist for i in range(freq)]\n",
    "        '''to only have uniques'''\n",
    "        dist_freq = [dist]\n",
    "        edit_distances.extend(dist_freq)"
   ]
  },
  {
   "cell_type": "code",
   "execution_count": 22,
   "metadata": {},
   "outputs": [
    {
     "name": "stdout",
     "output_type": "stream",
     "text": [
      "Maximum edit distance recorded: 29\n"
     ]
    }
   ],
   "source": [
    "print(f\"Maximum edit distance recorded: {int(max(edit_distances))}\")"
   ]
  },
  {
   "cell_type": "code",
   "execution_count": 23,
   "metadata": {},
   "outputs": [],
   "source": [
    "import matplotlib.pyplot as plt\n",
    "import seaborn as sns\n",
    "%matplotlib inline\n",
    "\n",
    "sns.set()"
   ]
  },
  {
   "cell_type": "markdown",
   "metadata": {},
   "source": [
    "Plots that also consider the frequency of words, i.e *includes duplicates too*. **(Might not be as useful)**"
   ]
  },
  {
   "cell_type": "code",
   "execution_count": 24,
   "metadata": {},
   "outputs": [
    {
     "data": {
      "text/plain": [
       "Text(0.5, 1.0, 'Frequency vs Edit Distance')"
      ]
     },
     "execution_count": 24,
     "metadata": {},
     "output_type": "execute_result"
    },
    {
     "data": {
      "image/png": "[encoded data removed]",
      "text/plain": [
       "<Figure size 432x288 with 1 Axes>"
      ]
     },
     "metadata": {},
     "output_type": "display_data"
    }
   ],
   "source": [
    "fig, ax = plt.subplots()\n",
    "sns.histplot(edit_distances, ax=ax)\n",
    "ax.set_xlim(0, 15)\n",
    "ax.set(xlabel=\"Edit Distance\", ylabel=\"Frequency\")\n",
    "ax.set_title(\"Frequency vs Edit Distance\")"
   ]
  },
  {
   "cell_type": "code",
   "execution_count": 25,
   "metadata": {},
   "outputs": [
    {
     "data": {
      "text/plain": [
       "Text(0.5, 1.0, 'Frequency vs Edit Distance')"
      ]
     },
     "execution_count": 25,
     "metadata": {},
     "output_type": "execute_result"
    },
    {
     "data": {
      "image/png": "[encoded data removed]",
      "text/plain": [
       "<Figure size 432x288 with 1 Axes>"
      ]
     },
     "metadata": {},
     "output_type": "display_data"
    }
   ],
   "source": [
    "fig, ax = plt.subplots()\n",
    "sns.histplot(edit_distances, ax=ax)\n",
    "ax.set_xlim(0.5, 8.5)\n",
    "ax.set(xlabel=\"Edit Distance\", ylabel=\"Frequency\")\n",
    "ax.set_title(\"Frequency vs Edit Distance\")"
   ]
  },
  {
   "cell_type": "markdown",
   "metadata": {},
   "source": [
    "Next plots consider only **unique non-canonical words**"
   ]
  },
  {
   "cell_type": "code",
   "execution_count": 26,
   "metadata": {},
   "outputs": [
    {
     "data": {
      "text/plain": [
       "Text(0.5, 1.0, 'Frequency vs Edit Distance')"
      ]
     },
     "execution_count": 26,
     "metadata": {},
     "output_type": "execute_result"
    },
    {
     "data": {
      "image/png": "[encoded data removed]",
      "text/plain": [
       "<Figure size 432x288 with 1 Axes>"
      ]
     },
     "metadata": {},
     "output_type": "display_data"
    }
   ],
   "source": [
    "fig, ax = plt.subplots()\n",
    "sns.histplot(edit_distances, ax=ax)\n",
    "ax.set_xlim(0.5, 10.5)\n",
    "ax.set(xlabel=\"Edit Distance\", ylabel=\"Frequency\")\n",
    "ax.set_title(\"Frequency vs Edit Distance\")"
   ]
  },
  {
   "cell_type": "code",
   "execution_count": 27,
   "metadata": {},
   "outputs": [
    {
     "data": {
      "text/plain": [
       "Text(0.5, 1.0, 'Frequency vs Edit Distance')"
      ]
     },
     "execution_count": 27,
     "metadata": {},
     "output_type": "execute_result"
    },
    {
     "data": {
      "image/png": "[encoded data removed]",
      "text/plain": [
       "<Figure size 432x288 with 1 Axes>"
      ]
     },
     "metadata": {},
     "output_type": "display_data"
    }
   ],
   "source": [
    "fig, ax = plt.subplots()\n",
    "sns.histplot(edit_distances, ax=ax)\n",
    "ax.set_xlim(0.5, 8.5)\n",
    "ax.set(xlabel=\"Edit Distance\", ylabel=\"Frequency\")\n",
    "ax.set_title(\"Frequency vs Edit Distance\")"
   ]
  },
  {
   "cell_type": "markdown",
   "metadata": {},
   "source": [
    "Major edit distances occur in the maximum range till 7, with the *heighest being for 1*.\n",
    "### Normalized Edit Distances"
   ]
  },
  {
   "cell_type": "code",
   "execution_count": 28,
   "metadata": {},
   "outputs": [],
   "source": [
    "norm_edit_distances = []\n",
    "\n",
    "for raw in conversion_map.keys():\n",
    "    for norm in conversion_map[raw].keys():\n",
    "        dist = edit_distance(raw, norm)\n",
    "        freq = conversion_map[raw][norm]\n",
    "        norm_len = len(raw)\n",
    "        '''includes duplicates'''\n",
    "        # dist_freq = [dist/norm_len for i in range(freq)]\n",
    "        '''includes only unique occurrences'''\n",
    "        dist_freq = [dist/norm_len]\n",
    "        norm_edit_distances.extend(dist_freq)"
   ]
  },
  {
   "cell_type": "code",
   "execution_count": 29,
   "metadata": {},
   "outputs": [
    {
     "name": "stdout",
     "output_type": "stream",
     "text": [
      "Maximum normalized edit distance recorded: 7\n"
     ]
    }
   ],
   "source": [
    "print(f\"Maximum normalized edit distance recorded: {int(max(norm_edit_distances))}\")"
   ]
  },
  {
   "cell_type": "markdown",
   "metadata": {},
   "source": [
    "These plots include duplicates, i.e *they are considering all the occurences of a word*. **(might not be as useful)**"
   ]
  },
  {
   "cell_type": "code",
   "execution_count": 30,
   "metadata": {},
   "outputs": [
    {
     "data": {
      "text/plain": [
       "Text(0.5, 1.0, 'Frequency vs Normalized Edit Distance')"
      ]
     },
     "execution_count": 30,
     "metadata": {},
     "output_type": "execute_result"
    },
    {
     "data": {
      "image/png": "[encoded data removed]",
      "text/plain": [
       "<Figure size 432x288 with 1 Axes>"
      ]
     },
     "metadata": {},
     "output_type": "display_data"
    }
   ],
   "source": [
    "fig, ax = plt.subplots()\n",
    "sns.histplot(norm_edit_distances, ax=ax)\n",
    "ax.set_xlim(0, 6.5)\n",
    "ax.set(xlabel=\"Normalized Edit Distance\", ylabel=\"Frequency\")\n",
    "ax.set_title(\"Frequency vs Normalized Edit Distance\")"
   ]
  },
  {
   "cell_type": "markdown",
   "metadata": {},
   "source": [
    "Next plots only *include unique occurences* of the raw words"
   ]
  },
  {
   "cell_type": "code",
   "execution_count": 31,
   "metadata": {},
   "outputs": [
    {
     "data": {
      "text/plain": [
       "Text(0.5, 1.0, 'Frequency vs Normalized Edit Distance - (1, 5)')"
      ]
     },
     "execution_count": 31,
     "metadata": {},
     "output_type": "execute_result"
    },
    {
     "data": {
      "image/png": "[encoded data removed]",
      "text/plain": [
       "<Figure size 432x288 with 1 Axes>"
      ]
     },
     "metadata": {},
     "output_type": "display_data"
    }
   ],
   "source": [
    "fig, ax = plt.subplots()\n",
    "sns.histplot(norm_edit_distances, ax=ax)\n",
    "ax.set_xlim(0, 5.5)\n",
    "ax.set(xlabel=\"Normalized Edit Distance\", ylabel=\"Frequency\")\n",
    "ax.set_title(\"Frequency vs Normalized Edit Distance - (1, 5)\")"
   ]
  },
  {
   "cell_type": "code",
   "execution_count": 32,
   "metadata": {},
   "outputs": [
    {
     "data": {
      "text/plain": [
       "Text(0.5, 1.0, 'Frequency vs Normalized Edit Distance - (0, 1)')"
      ]
     },
     "execution_count": 32,
     "metadata": {},
     "output_type": "execute_result"
    },
    {
     "data": {
      "image/png": "[encoded data removed]",
      "text/plain": [
       "<Figure size 432x288 with 1 Axes>"
      ]
     },
     "metadata": {},
     "output_type": "display_data"
    }
   ],
   "source": [
    "fig, ax = plt.subplots()\n",
    "sns.histplot(norm_edit_distances, ax=ax)\n",
    "ax.set_xlim(0, 1.25)\n",
    "ax.set(xlabel=\"Normalized Edit Distance\", ylabel=\"Frequency\")\n",
    "ax.set_title(\"Frequency vs Normalized Edit Distance - (0, 1)\")"
   ]
  },
  {
   "cell_type": "markdown",
   "metadata": {},
   "source": [
    "For **Normalized** edit distances, major edit distances occur in the maximum range upto 5, with *most squeezed between* (0, 1]."
   ]
  },
  {
   "cell_type": "markdown",
   "metadata": {},
   "source": [
    "# Running and Testing Data on Monoise"
   ]
  },
  {
   "cell_type": "markdown",
   "metadata": {},
   "source": [
    "Tested the *validation set* (`dev.norm`) on the Monoise model. The detailed results can be found in the `monoise_b_C_t` file.\n",
    "- **F1 score** = 0.8874\n",
    "- **ERR** = 0.7977\n",
    "- **Accuracy** = 0.7977\n",
    "- **Recall** = 0.7977\n",
    "\n",
    "*TN and FP were 0*\n",
    "\n",
    "---\n",
    "\n",
    "When testing without tokenization*(which probably didn't really matter)* and while **ignoring Caps**, we achieved better results. Detailed results can be found in the `monoise_b` file.\n",
    "- **F1 score** = 0.923\n",
    "- **ERR** = 0.857\n",
    "- **Accuracy** = 0.857\n",
    "- **Recall** = 0.857\n",
    "\n",
    "*TN and FP were 0*"
   ]
  },
  {
   "cell_type": "markdown",
   "metadata": {},
   "source": [
    "## Repeated Characters"
   ]
  },
  {
   "cell_type": "code",
   "execution_count": 33,
   "metadata": {},
   "outputs": [],
   "source": [
    "import regex as re"
   ]
  },
  {
   "cell_type": "code",
   "execution_count": 34,
   "metadata": {},
   "outputs": [],
   "source": [
    "repeated_chars = r'\\b(?=\\w*(\\w)\\1{2,})\\w+\\b'"
   ]
  },
  {
   "cell_type": "code",
   "execution_count": 35,
   "metadata": {},
   "outputs": [],
   "source": [
    "small_words = {}"
   ]
  },
  {
   "cell_type": "code",
   "execution_count": 36,
   "metadata": {},
   "outputs": [],
   "source": [
    "vocab = set()\n",
    "for sent in c_norm:\n",
    "    for word in sent.split():\n",
    "        vocab.add(word)"
   ]
  },
  {
   "cell_type": "code",
   "execution_count": 37,
   "metadata": {
    "scrolled": true
   },
   "outputs": [
    {
     "name": "stdout",
     "output_type": "stream",
     "text": [
      "53 68\n"
     ]
    }
   ],
   "source": [
    "count = 0\n",
    "before = 0\n",
    "after = 0\n",
    "for i in c_raw:\n",
    "    found = re.search(repeated_chars, i)\n",
    "    if(found):\n",
    "        word = found.group()\n",
    "        if(word in vocab):\n",
    "            before+=1\n",
    "        clean_word = ''.join(['' if i>1 and e==word[i-1] else e for i,e in enumerate(word)])\n",
    "        # print(clean_word)\n",
    "        if(clean_word in vocab):\n",
    "            after+=1\n",
    "\n",
    "print(before, after)"
   ]
  },
  {
   "cell_type": "markdown",
   "metadata": {},
   "source": [
    "## Unnormalized words per sentence "
   ]
  },
  {
   "cell_type": "code",
   "execution_count": 62,
   "metadata": {},
   "outputs": [],
   "source": [
    "unnorm_count = [len([word for word in raw.split() if word not in norm.split()]) for (raw, norm) in zip(c_raw, c_norm)]"
   ]
  },
  {
   "cell_type": "code",
   "execution_count": 61,
   "metadata": {},
   "outputs": [
    {
     "data": {
      "text/plain": [
       "[Text(0.5, 0, 'Number of unnormalized words'), Text(0, 0.5, 'Frequency')]"
      ]
     },
     "execution_count": 61,
     "metadata": {},
     "output_type": "execute_result"
    },
    {
     "data": {
      "image/png": "[encoded data removed]",
      "text/plain": [
       "<Figure size 432x288 with 1 Axes>"
      ]
     },
     "metadata": {},
     "output_type": "display_data"
    }
   ],
   "source": [
    "fig, ax = plt.subplots()\n",
    "sns.histplot(unnorm_count, ax=ax)\n",
    "ax.set_xlim(0, 10)\n",
    "ax.set(xlabel=\"Number of unnormalized words\", ylabel=\"Frequency\")"
   ]
  }
 ],
 "metadata": {
  "interpreter": {
   "hash": "2476b43a1381252f3e4867362f308f1b5866abd3c80db7d3bc84a9d7006e407b"
  },
  "kernelspec": {
   "display_name": "Python 3",
   "language": "python",
   "name": "python3"
  },
  "language_info": {
   "codemirror_mode": {
    "name": "ipython",
    "version": 3
   },
   "file_extension": ".py",
   "mimetype": "text/x-python",
   "name": "python",
   "nbconvert_exporter": "python",
   "pygments_lexer": "ipython3",
   "version": "3.8.5"
  }
 },
 "nbformat": 4,
 "nbformat_minor": 2
}
