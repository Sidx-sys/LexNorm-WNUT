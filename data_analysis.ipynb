{
 "metadata": {
  "language_info": {
   "codemirror_mode": {
    "name": "ipython",
    "version": 3
   },
   "file_extension": ".py",
   "mimetype": "text/x-python",
   "name": "python",
   "nbconvert_exporter": "python",
   "pygments_lexer": "ipython3",
   "version": "3.8.8"
  },
  "orig_nbformat": 4,
  "kernelspec": {
   "name": "python3",
   "display_name": "Python 3.8.8 64-bit ('base': conda)"
  },
  "interpreter": {
   "hash": "2476b43a1381252f3e4867362f308f1b5866abd3c80db7d3bc84a9d7006e407b"
  }
 },
 "nbformat": 4,
 "nbformat_minor": 2,
 "cells": [
  {
   "cell_type": "code",
   "execution_count": 1,
   "metadata": {},
   "outputs": [],
   "source": [
    "folder_path = 'Data/multilexnorm/data/'\n",
    "file_path = 'en/train.norm'\n",
    "data_path = folder_path + file_path"
   ]
  },
  {
   "cell_type": "code",
   "execution_count": 2,
   "metadata": {},
   "outputs": [],
   "source": [
    "import pandas as pd"
   ]
  },
  {
   "cell_type": "code",
   "execution_count": 3,
   "metadata": {},
   "outputs": [
    {
     "output_type": "execute_result",
     "data": {
      "text/plain": [
       "               raw            norm\n",
       "0   @teddyferrari1  @teddyferrari1\n",
       "1                :               :\n",
       "2                \"               \"\n",
       "3               ah              ah\n",
       "4              ...             ...\n",
       "5      @datzmenoni     @datzmenoni\n",
       "6                :               :\n",
       "7              why             why\n",
       "8              sub             sub\n",
       "9             ozil            ozil\n",
       "10               \"               \""
      ],
      "text/html": "<div>\n<style scoped>\n    .dataframe tbody tr th:only-of-type {\n        vertical-align: middle;\n    }\n\n    .dataframe tbody tr th {\n        vertical-align: top;\n    }\n\n    .dataframe thead th {\n        text-align: right;\n    }\n</style>\n<table border=\"1\" class=\"dataframe\">\n  <thead>\n    <tr style=\"text-align: right;\">\n      <th></th>\n      <th>raw</th>\n      <th>norm</th>\n    </tr>\n  </thead>\n  <tbody>\n    <tr>\n      <th>0</th>\n      <td>@teddyferrari1</td>\n      <td>@teddyferrari1</td>\n    </tr>\n    <tr>\n      <th>1</th>\n      <td>:</td>\n      <td>:</td>\n    </tr>\n    <tr>\n      <th>2</th>\n      <td>\"</td>\n      <td>\"</td>\n    </tr>\n    <tr>\n      <th>3</th>\n      <td>ah</td>\n      <td>ah</td>\n    </tr>\n    <tr>\n      <th>4</th>\n      <td>...</td>\n      <td>...</td>\n    </tr>\n    <tr>\n      <th>5</th>\n      <td>@datzmenoni</td>\n      <td>@datzmenoni</td>\n    </tr>\n    <tr>\n      <th>6</th>\n      <td>:</td>\n      <td>:</td>\n    </tr>\n    <tr>\n      <th>7</th>\n      <td>why</td>\n      <td>why</td>\n    </tr>\n    <tr>\n      <th>8</th>\n      <td>sub</td>\n      <td>sub</td>\n    </tr>\n    <tr>\n      <th>9</th>\n      <td>ozil</td>\n      <td>ozil</td>\n    </tr>\n    <tr>\n      <th>10</th>\n      <td>\"</td>\n      <td>\"</td>\n    </tr>\n  </tbody>\n</table>\n</div>"
     },
     "metadata": {},
     "execution_count": 3
    }
   ],
   "source": [
    "df = pd.read_csv(data_path, sep='\\t', quotechar=\"'\")\n",
    "df.rename(columns={'rt': 'raw', 'rt.1': 'norm'}, inplace=True)\n",
    "df.head(11)"
   ]
  },
  {
   "cell_type": "code",
   "execution_count": 4,
   "metadata": {},
   "outputs": [],
   "source": [
    "raw = []\n",
    "norm = []\n",
    "\n",
    "with open(data_path, 'r') as f:\n",
    "    tweet_raw = []\n",
    "    tweet_norm = []\n",
    "    for line in f:\n",
    "        if line == '\\n':\n",
    "            raw.append(\" \".join(tweet_raw))\n",
    "            norm.append(\" \".join(tweet_norm))\n",
    "            tweet_raw = []\n",
    "            tweet_norm = []\n",
    "        else:\n",
    "            tokens = line.split()\n",
    "\n",
    "            tweet_raw.append(tokens[0])\n",
    "            tweet_norm.extend(tokens[1:])"
   ]
  },
  {
   "cell_type": "code",
   "execution_count": 5,
   "metadata": {},
   "outputs": [
    {
     "output_type": "execute_result",
     "data": {
      "text/plain": [
       "['rt @teddyferrari1 : \" ah ... @datzmenoni : why sub ozil \" @lexzydoo_ab : opolo eyes u no fit open eyes \"\"',\n",
       " 'u have a very sexy header @jaibrooks1 rawr',\n",
       " 'i miss u my bie ! where u wanna out wif me ? have a wonderful day like a swan day .. haha ..',\n",
       " '\" cantik . rt @historyinpics : julie christie , 1968 . photograph by richard avedon . http://t.co/gscav8o0ik \"',\n",
       " 'rt @fvckxhemmings : did calum slip ?!! omfg']"
      ]
     },
     "metadata": {},
     "execution_count": 5
    }
   ],
   "source": [
    "raw[:5]"
   ]
  },
  {
   "cell_type": "code",
   "execution_count": 6,
   "metadata": {},
   "outputs": [
    {
     "output_type": "execute_result",
     "data": {
      "text/plain": [
       "['rt @teddyferrari1 : \" ah ... @datzmenoni : why sub ozil \" @lexzydoo_ab : opolo eyes you no fit open eyes \"\"',\n",
       " 'you have a very sexy header @jaibrooks1 rawr',\n",
       " 'i miss you my bie ! where you want to out with me ? have a wonderful day like a swan day .. haha ..',\n",
       " '\" cantik . rt @historyinpics : julie christie , 1968 . photograph by richard avedon . http://t.co/gscav8o0ik \"',\n",
       " 'rt @fvckxhemmings : did calum slip ?!! omfg']"
      ]
     },
     "metadata": {},
     "execution_count": 6
    }
   ],
   "source": [
    "norm[:5]"
   ]
  },
  {
   "source": [
    "## Cleaning the data"
   ],
   "cell_type": "markdown",
   "metadata": {}
  },
  {
   "cell_type": "code",
   "execution_count": 41,
   "metadata": {},
   "outputs": [
    {
     "output_type": "stream",
     "name": "stdout",
     "text": [
      "Collecting tweet-preprocessor\n  Downloading tweet_preprocessor-0.6.0-py3-none-any.whl (27 kB)\nInstalling collected packages: tweet-preprocessor\nSuccessfully installed tweet-preprocessor-0.6.0\n"
     ]
    }
   ],
   "source": [
    "!pip install tweet-preprocessor"
   ]
  },
  {
   "cell_type": "code",
   "execution_count": 7,
   "metadata": {},
   "outputs": [],
   "source": [
    "import preprocessor as p\n",
    "p.set_options(p.OPT.URL, p.OPT.EMOJI, p.OPT.MENTION, p.OPT.HASHTAG, p.OPT.NUMBER)"
   ]
  },
  {
   "cell_type": "code",
   "execution_count": 8,
   "metadata": {},
   "outputs": [],
   "source": [
    "def clean_text(s):\n",
    "    return p.clean(s)"
   ]
  },
  {
   "cell_type": "code",
   "execution_count": 9,
   "metadata": {},
   "outputs": [],
   "source": [
    "c_raw = [clean_text(s) for s in raw]\n",
    "c_norm = [clean_text(s) for s in norm]"
   ]
  },
  {
   "cell_type": "code",
   "execution_count": 10,
   "metadata": {},
   "outputs": [
    {
     "output_type": "execute_result",
     "data": {
      "text/plain": [
       "['rt : \" ah ... : why sub ozil \" : opolo eyes u no fit open eyes \"\"',\n",
       " 'u have a very sexy header rawr',\n",
       " 'i miss u my bie ! where u wanna out wif me ? have a wonderful day like a swan day .. haha ..',\n",
       " '\" cantik . rt : julie christie , . photograph by richard avedon . \"',\n",
       " 'rt : did calum slip ?!! omfg']"
      ]
     },
     "metadata": {},
     "execution_count": 10
    }
   ],
   "source": [
    "c_raw[:5]"
   ]
  },
  {
   "cell_type": "code",
   "execution_count": 11,
   "metadata": {},
   "outputs": [
    {
     "output_type": "execute_result",
     "data": {
      "text/plain": [
       "['rt : \" ah ... : why sub ozil \" : opolo eyes you no fit open eyes \"\"',\n",
       " 'you have a very sexy header rawr',\n",
       " 'i miss you my bie ! where you want to out with me ? have a wonderful day like a swan day .. haha ..',\n",
       " '\" cantik . rt : julie christie , . photograph by richard avedon . \"',\n",
       " 'rt : did calum slip ?!! omfg']"
      ]
     },
     "metadata": {},
     "execution_count": 11
    }
   ],
   "source": [
    "c_norm[:5]"
   ]
  },
  {
   "source": [
    "## Observations"
   ],
   "cell_type": "markdown",
   "metadata": {}
  },
  {
   "cell_type": "code",
   "execution_count": 17,
   "metadata": {},
   "outputs": [],
   "source": [
    "'''Conversion map for words that can be normalized, {raw_word: {'opt_1': freq_1, 'opt_2':freq_2}}'''\n",
    "conversion_map = {}\n",
    "freq_map = {}\n",
    "one_to_n = {}\n",
    "\n",
    "for index, row in df.iterrows():\n",
    "    raw = str(row['raw'])\n",
    "    norm = str(row['norm'])\n",
    "    \n",
    "    if  raw != norm and raw != '\\t':\n",
    "        # conversion to normalized\n",
    "        if raw not in conversion_map.keys():\n",
    "            conversion_map[raw] = {}\n",
    "        if norm not in conversion_map[raw].keys():\n",
    "            conversion_map[raw][norm] = 1\n",
    "        else:\n",
    "            conversion_map[raw][norm] += 1\n",
    "\n",
    "        # frequency of conversions\n",
    "        if raw not in freq_map.keys():\n",
    "            freq_map[raw] = 1\n",
    "        else:\n",
    "            freq_map[raw] += 1\n",
    "        \n",
    "        # 1-n conversions\n",
    "        if len(raw.split()) < len(norm.split()):\n",
    "            if raw not in one_to_n.keys():\n",
    "                one_to_n[raw] = []\n",
    "            one_to_n[raw].append(norm)"
   ]
  },
  {
   "source": [
    "### Frequently Occuring Normalizations\n"
   ],
   "cell_type": "markdown",
   "metadata": {}
  },
  {
   "cell_type": "code",
   "execution_count": 18,
   "metadata": {
    "tags": []
   },
   "outputs": [
    {
     "output_type": "execute_result",
     "data": {
      "text/plain": [
       "[('u', 271),\n",
       " ('im', 148),\n",
       " ('dont', 72),\n",
       " ('nigga', 49),\n",
       " ('niggas', 45),\n",
       " ('n', 41),\n",
       " ('pls', 35),\n",
       " ('ur', 35),\n",
       " ('lil', 32),\n",
       " ('thats', 30)]"
      ]
     },
     "metadata": {},
     "execution_count": 18
    }
   ],
   "source": [
    "freq_map_sorted = sorted(freq_map.items(), key=lambda item: -item[1])\n",
    "freq_map_sorted[:10]"
   ]
  },
  {
   "source": [
    "### The Conversions"
   ],
   "cell_type": "markdown",
   "metadata": {}
  },
  {
   "cell_type": "code",
   "execution_count": 19,
   "metadata": {},
   "outputs": [
    {
     "output_type": "stream",
     "name": "stdout",
     "text": [
      "1: ('u', 271) -> {'you': 266, \"you're\": 2, 'your': 3}\n2: ('im', 148) -> {\"i'm\": 147, 'i': 1}\n3: ('dont', 72) -> {\"don't\": 72}\n4: ('nigga', 49) -> {'nigger': 49}\n5: ('niggas', 45) -> {'niggers': 45}\n6: ('n', 41) -> {'and': 39, 'at': 1, 'in': 1}\n7: ('pls', 35) -> {'please': 35}\n8: ('ur', 35) -> {'your': 25, \"you're\": 9, 'you': 1}\n9: ('lil', 32) -> {'little': 32}\n10: ('thats', 30) -> {\"that's\": 30}\n"
     ]
    }
   ],
   "source": [
    "for i in range(10):\n",
    "    print(f\"{i + 1}: {freq_map_sorted[i]} -> {str(conversion_map[freq_map_sorted[i][0]])}\")"
   ]
  },
  {
   "source": [
    "### 1-N conversions"
   ],
   "cell_type": "markdown",
   "metadata": {}
  },
  {
   "cell_type": "code",
   "execution_count": 20,
   "metadata": {},
   "outputs": [
    {
     "output_type": "stream",
     "name": "stdout",
     "text": [
      "No. of 1-N conversions: 144\n"
     ]
    }
   ],
   "source": [
    "print(f\"No. of 1-N conversions: {len(one_to_n)}\")"
   ]
  },
  {
   "source": [
    "Sorting according to types of *1-N conversions per word*"
   ],
   "cell_type": "markdown",
   "metadata": {}
  },
  {
   "cell_type": "code",
   "execution_count": 27,
   "metadata": {},
   "outputs": [
    {
     "output_type": "execute_result",
     "data": {
      "text/plain": [
       "('finna',\n",
       " ['going to',\n",
       "  'going to',\n",
       "  'going to',\n",
       "  'going to',\n",
       "  'going to',\n",
       "  'going to',\n",
       "  'going to',\n",
       "  'going to',\n",
       "  'going to',\n",
       "  'going to'])"
      ]
     },
     "metadata": {},
     "execution_count": 27
    }
   ],
   "source": [
    "one_to_n_sorted = sorted(one_to_n.items(), key=lambda item: -len(item[1]))\n",
    "one_to_n_sorted[4]"
   ]
  },
  {
   "source": [
    "Here, **finna** is commonly normalized to **going to**, although the web tells that its *normalized version* is **fixing to**"
   ],
   "cell_type": "markdown",
   "metadata": {}
  },
  {
   "cell_type": "code",
   "execution_count": 36,
   "metadata": {},
   "outputs": [
    {
     "output_type": "stream",
     "name": "stdout",
     "text": [
      "Top 10 1-N Conversions:\n\n0: gonna -> going to\n1: ima -> i'm going to\n2: imma -> i'm going to\n3: tryna -> trying to\n4: finna -> going to\n5: dm -> direct message\n6: wanna -> want to\n7: tf -> the fuck\n8: af -> as fuck\n9: rn -> right now\n"
     ]
    }
   ],
   "source": [
    "print(\"Top 10 1-N Conversions:\\n\")\n",
    "for i in range(10):\n",
    "    w, r = one_to_n_sorted[i]\n",
    "    print(f\"{i}: {w} -> {r[0]}\")"
   ]
  },
  {
   "cell_type": "code",
   "execution_count": null,
   "metadata": {},
   "outputs": [],
   "source": []
  }
 ]
}