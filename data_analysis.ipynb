{
 "metadata": {
  "language_info": {
   "codemirror_mode": {
    "name": "ipython",
    "version": 3
   },
   "file_extension": ".py",
   "mimetype": "text/x-python",
   "name": "python",
   "nbconvert_exporter": "python",
   "pygments_lexer": "ipython3",
   "version": "3.8.8"
  },
  "orig_nbformat": 4,
  "kernelspec": {
   "name": "python3",
   "display_name": "Python 3.8.8 64-bit ('base': conda)"
  },
  "interpreter": {
   "hash": "2476b43a1381252f3e4867362f308f1b5866abd3c80db7d3bc84a9d7006e407b"
  }
 },
 "nbformat": 4,
 "nbformat_minor": 2,
 "cells": [
  {
   "cell_type": "code",
   "execution_count": 4,
   "metadata": {},
   "outputs": [],
   "source": [
    "folder_path = '../Data/multilexnorm/data/'\n",
    "file_path = 'en/train.norm'"
   ]
  },
  {
   "cell_type": "code",
   "execution_count": 5,
   "metadata": {},
   "outputs": [],
   "source": [
    "import pandas as pd"
   ]
  },
  {
   "cell_type": "code",
   "execution_count": 11,
   "metadata": {},
   "outputs": [
    {
     "output_type": "execute_result",
     "data": {
      "text/plain": [
       "                rt            rt.1\n",
       "0   @teddyferrari1  @teddyferrari1\n",
       "1                :               :\n",
       "2                \"               \"\n",
       "3               ah              ah\n",
       "4              ...             ...\n",
       "5      @datzmenoni     @datzmenoni\n",
       "6                :               :\n",
       "7              why             why\n",
       "8              sub             sub\n",
       "9             ozil            ozil\n",
       "10               \"               \""
      ],
      "text/html": "<div>\n<style scoped>\n    .dataframe tbody tr th:only-of-type {\n        vertical-align: middle;\n    }\n\n    .dataframe tbody tr th {\n        vertical-align: top;\n    }\n\n    .dataframe thead th {\n        text-align: right;\n    }\n</style>\n<table border=\"1\" class=\"dataframe\">\n  <thead>\n    <tr style=\"text-align: right;\">\n      <th></th>\n      <th>rt</th>\n      <th>rt.1</th>\n    </tr>\n  </thead>\n  <tbody>\n    <tr>\n      <th>0</th>\n      <td>@teddyferrari1</td>\n      <td>@teddyferrari1</td>\n    </tr>\n    <tr>\n      <th>1</th>\n      <td>:</td>\n      <td>:</td>\n    </tr>\n    <tr>\n      <th>2</th>\n      <td>\"</td>\n      <td>\"</td>\n    </tr>\n    <tr>\n      <th>3</th>\n      <td>ah</td>\n      <td>ah</td>\n    </tr>\n    <tr>\n      <th>4</th>\n      <td>...</td>\n      <td>...</td>\n    </tr>\n    <tr>\n      <th>5</th>\n      <td>@datzmenoni</td>\n      <td>@datzmenoni</td>\n    </tr>\n    <tr>\n      <th>6</th>\n      <td>:</td>\n      <td>:</td>\n    </tr>\n    <tr>\n      <th>7</th>\n      <td>why</td>\n      <td>why</td>\n    </tr>\n    <tr>\n      <th>8</th>\n      <td>sub</td>\n      <td>sub</td>\n    </tr>\n    <tr>\n      <th>9</th>\n      <td>ozil</td>\n      <td>ozil</td>\n    </tr>\n    <tr>\n      <th>10</th>\n      <td>\"</td>\n      <td>\"</td>\n    </tr>\n  </tbody>\n</table>\n</div>"
     },
     "metadata": {},
     "execution_count": 11
    }
   ],
   "source": [
    "df = pd.read_csv(folder_path + file_path, sep='\\t', quotechar=\"'\")\n",
    "df.head(11)"
   ]
  },
  {
   "cell_type": "code",
   "execution_count": null,
   "metadata": {},
   "outputs": [],
   "source": []
  }
 ]
}